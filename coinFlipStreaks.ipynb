{
 "cells": [
  {
   "cell_type": "code",
   "execution_count": 3,
   "metadata": {},
   "outputs": [],
   "source": [
    "import random #for randint \n",
    "import sys #for sys.exit()\n",
    "# general function\n",
    "#streakN is how many heads or tails in a row I want to see comes up in an experiment\n",
    "#flipN is the number of flips I want to do in a single experiment\n",
    "#experimentN is how many experiments I want to conduct\n",
    "def streakCounter(consec, flipN, experimentN):\n",
    "    if consec==0:\n",
    "        sys.exit(\"Invalid input. Please enter a number larger than 0.\") #makes sure a user enters valid input.\n",
    "    if flipN==0:\n",
    "        sys.exit(\"Invalid input. Please enter a number larger than 0.\")\n",
    "    if experimentN==0:\n",
    "        sys.exit(\"Invalid input. Please enter a number larger than 0.\")\n",
    "    if consec>flipN:\n",
    "        sys.exit(\"Invalid input. Number of streaks cannot be larger than a number of flips in an experiment.\")\n",
    "    numberOfStreaks=0 #increments by one if a single experiment had a streak as defined by user\n",
    "    for experiment in range(experimentN):\n",
    "        streak=0 # at the start of an experiment the number of streaks is 0\n",
    "        flip_list=[random.randint(0, 1) for i in range(flipN)] #creates a sample of flips\n",
    "        for i in range(flipN):\n",
    "            if i==0: #passes the first item in the list\n",
    "                pass\n",
    "            elif flip_list[i] == flip_list[i-1]:  #checks for individual streaks\n",
    "                streak += 1\n",
    "            else:\n",
    "                streak=0\n",
    "            if streak == consec-1: # if I want to see 6 heads in a row, it will be counted as 5 streaks. \n",
    "                numberOfStreaks += 1\n",
    "                break # abandons a current experiment if a streak is found\n",
    "    print(f\"Number of experiments with a streak: {numberOfStreaks}\")\n",
    "    print(f\"Chance of streak:{(numberOfStreaks/experimentN)*100}%\")"
   ]
  },
  {
   "cell_type": "code",
   "execution_count": 4,
   "metadata": {},
   "outputs": [
    {
     "name": "stdout",
     "output_type": "stream",
     "text": [
      "Number of experiments with a streak: 1\n",
      "Chance of streak:100.0%\n"
     ]
    }
   ],
   "source": [
    "streakCounter(1, 10, 1)"
   ]
  },
  {
   "cell_type": "code",
   "execution_count": 5,
   "metadata": {},
   "outputs": [
    {
     "name": "stdout",
     "output_type": "stream",
     "text": [
      "Number of experiments with a streak: 1\n",
      "Chance of streak:10.0%\n"
     ]
    }
   ],
   "source": [
    "streakCounter(5, 10, 10)"
   ]
  },
  {
   "cell_type": "code",
   "execution_count": 6,
   "metadata": {},
   "outputs": [
    {
     "name": "stdout",
     "output_type": "stream",
     "text": [
      "Number of experiments with a streak: 8037\n",
      "Chance of streak:80.36999999999999%\n"
     ]
    }
   ],
   "source": [
    "streakCounter(6, 100, 10000)"
   ]
  },
  {
   "cell_type": "code",
   "execution_count": 7,
   "metadata": {},
   "outputs": [
    {
     "name": "stdout",
     "output_type": "stream",
     "text": [
      "Number of experiments with a streak: 0\n",
      "Chance of streak:0.0%\n"
     ]
    }
   ],
   "source": [
    "streakCounter(99, 100, 10)"
   ]
  }
 ],
 "metadata": {
  "kernelspec": {
   "display_name": "Python 3",
   "language": "python",
   "name": "python3"
  },
  "language_info": {
   "codemirror_mode": {
    "name": "ipython",
    "version": 3
   },
   "file_extension": ".py",
   "mimetype": "text/x-python",
   "name": "python",
   "nbconvert_exporter": "python",
   "pygments_lexer": "ipython3",
   "version": "3.7.4"
  }
 },
 "nbformat": 4,
 "nbformat_minor": 2
}
